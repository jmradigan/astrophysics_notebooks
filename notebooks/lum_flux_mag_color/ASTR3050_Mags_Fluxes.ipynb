{
 "cells": [
  {
   "cell_type": "markdown",
   "metadata": {},
   "source": [
    "<h1>ASTR3050 Luminosity, Flux and Magnitudes Worksheet</h1>"
   ]
  },
  {
   "cell_type": "code",
   "execution_count": null,
   "metadata": {},
   "outputs": [],
   "source": [
    "#We will always begin by importing modules we will be using\n",
    "import numpy as np\n",
    "from astropy import units as u\n",
    "import sqlite3\n",
    "import matplotlib.pyplot as plt\n",
    "import astropy.io.ascii as ascii\n",
    "import ipywidgets as widgets\n",
    "from ipywidgets import interact"
   ]
  },
  {
   "cell_type": "markdown",
   "metadata": {},
   "source": [
    "<big> In astronomy, the <b><font color=blue>luminosity</font></b> of a star is the total energy per second it emits.  The units of luminosity are J/s (metric units) or erg/s (cgs units). Note that 1 J/s = 1 Watt, so luminosity is actually a meaure of <em>power.</em><p>\n",
    "    \n",
    "The luminosity of our Sun is $L_{\\odot} = 3.827\\times 10^{26}\\,$Watts.<p>\n",
    "    \n",
    "We can use the <tt>astropy.units</tt> module to define entire physical <em>quantities</em> in Python: numbers plus units. <p>\n",
    "    \n",
    "Let's define a <em>quantity</em> to represent to luminosity of the sun, <tt>l_sun</tt>.  We do this by multiplying a floating point number by a <em>unit</em>.  The unit of Watts can be created by the <tt>astropy.units</tt> module with the syntax <tt>u.watt</tt>. For example,</big>"
   ]
  },
  {
   "cell_type": "code",
   "execution_count": null,
   "metadata": {},
   "outputs": [],
   "source": [
    "l_sun = 3.827e26 * u.watt\n",
    "print(l_sun)"
   ]
  },
  {
   "cell_type": "markdown",
   "metadata": {},
   "source": [
    "<big> <b><font color=blue>Flux</font></b> is the amount of energy per unit time per unit area flowing through a (real or imaginary) surface.  It's units are J/s/m$^2$ (metric units) or erg/s/cm$^2$ (cgs units).\n",
    " \n",
    "<h4>Question 1:</h4> If the radius of our sun is $R_{\\odot} = 6.955\\times 10^8\\,$m, what is the flux through it's surface?<p>\n",
    "\n",
    "<li> Start by defining a <em>quantity</em>, <tt>r_sun</tt>, to represent the Sun's radius.  (Hint: units of meters are given by <tt>u.m</tt>)\n",
    "\n",
    "<li> Now you should be able to write down an expression for the surface area of the sun in terms of its radius (hint: What is the surface area of a sphere?  You can use <tt>np.pi</tt> for the number $\\pi$)\n",
    "\n",
    "<li> Now you can write down an expression for surface flux, <tt>fsurf_sun</tt> by dividing luminosity by area<p>\n",
    "   \n",
    "    \n",
    "<li> Look for the ##### prompts for lines of code you must complete:"
   ]
  },
  {
   "cell_type": "code",
   "execution_count": null,
   "metadata": {},
   "outputs": [],
   "source": [
    "#Use this cell to code your solution for question #1\n",
    "\n",
    "##### r_sun =  #radius of sun\n",
    "##### area_sun = #surface area of the sun\n",
    "##### fsurf_sun =  #surfce flux of sun\n",
    "\n",
    "##### print(fsurf_sun) #print your solution"
   ]
  },
  {
   "cell_type": "markdown",
   "metadata": {},
   "source": [
    "<font color=red>Instructor solution for question #1 - double click to view</font>\n",
    "<!--\n",
    "r_sun = 6.955e8 * u.m #radius of the sun\n",
    "area_sun = 4*np.pi *r_sun**2 #surface area of the sun\n",
    "fsurf_sun = l_sun / (area_sun) #surface flux of the sun\n",
    "print(fsurf_sun)\n",
    "-->"
   ]
  },
  {
   "cell_type": "markdown",
   "metadata": {},
   "source": [
    "<big><h4>Question 2 (a):</h4> The fluxes we measure for distant stars (using telescopes on the earth) are much smaller than their surface fluxes, because the total energy is spread out over a larger and larger area as distance increases:<p>\n",
    "    $F = \\frac{L}{4\\pi d^2}$ (1)\n",
    " \n",
    "<p>\n",
    "    \n",
    "    If you are observing a sun-like star that is 4 light years away, what flux would you measure at the position of the Earth?\n",
    "\n",
    "<li> Define the distance to the star, <tt>d</tt> (Hint: the unit for light year is <tt>u.lyr</tt>)\n",
    "<li> Calculate the flux at the Earth as a function of <tt>l_sun</tt> and the distance, <tt>d</tt>.\n",
    "\n",
    "</big>"
   ]
  },
  {
   "cell_type": "code",
   "execution_count": null,
   "metadata": {},
   "outputs": [],
   "source": [
    "#Use this cell to code your solution for question #2a\n",
    "\n",
    "##### define a quanity for the distance to the star, d = ...\n",
    "##### define a quantity for the flux observed at the Earth as a function of d and l_sun, flux = ...\n",
    "##### print your solution"
   ]
  },
  {
   "cell_type": "markdown",
   "metadata": {},
   "source": [
    "<font color=red>Instructor solution for question #2a  - double click to view</font>\n",
    "<!--\n",
    "d = 4.0 * u.lyr #distance to star\n",
    "flux = (l_sun/(4*np.pi*d**2))\n",
    "print(flux)\n",
    "--> "
   ]
  },
  {
   "cell_type": "markdown",
   "metadata": {},
   "source": [
    "<big>When you print the result to question 2, the units are Watt/ly$^2$.   <em><b>What if we want the flux in W/m$^2$?</em></b>\n",
    "<p>\n",
    "We can define a new unit: <tt>w_m2 = u.watt/u.m**2 </tt>\n",
    "    <p>\n",
    "        Then we can convert our result to this new unit using the <tt>.to()</tt> method, E.g.\n",
    "    "
   ]
  },
  {
   "cell_type": "code",
   "execution_count": null,
   "metadata": {},
   "outputs": [],
   "source": [
    "w_m2 = u.watt/u.m**2\n",
    "print(flux.to(w_m2))"
   ]
  },
  {
   "cell_type": "markdown",
   "metadata": {},
   "source": [
    "<big>\n",
    "Try changing the distance in part 2(a) to 1AU, and checking your result against the value of the solar irradiance (solar constant) that you can look up online! </big>"
   ]
  },
  {
   "cell_type": "markdown",
   "metadata": {},
   "source": [
    "<big><h4>Question 2 (b):</h4> Try out some unit conversions for yourself:<p>\n",
    "    \n",
    "   <li> First, try converting the distance from part (a) from light years to parsecs (u.pc).  How many light years are in one parsec?\n",
    "    \n",
    "   <li> Next, try converting the flux from part (a) to cgs units of erg/s/cm$^2$.  To do this you will first have to define a new unit <tt>erg_s_cm2</tt> as we did for W/m$^2$ above.\n",
    "    \n",
    "   <li>Don't forget to view your results with a print(...) statement!"
   ]
  },
  {
   "cell_type": "code",
   "execution_count": null,
   "metadata": {},
   "outputs": [],
   "source": [
    "#Use this cell to code your solution for question #2b\n",
    "\n",
    "##### convert the distance above to parsecs using the .to() method\n",
    "##### convert 1 pc to ly\n",
    "\n",
    "##### defing a new unit erg_s_cm2\n",
    "##### convert the flux from part(a) to the new units using the .to() method"
   ]
  },
  {
   "cell_type": "markdown",
   "metadata": {},
   "source": [
    "<font color=red>Instructor solution for question #2b  - double click to view</font>\n",
    "\n",
    "<!--\n",
    "print(d.to(u.pc))\n",
    "d1 = 1*u.pc\n",
    "print(d1.to(u.lyr))\n",
    "erg_s_cm2 = u.erg/u.s/u.cm**2\n",
    "print(flux.to(erg_s_cm2))\n",
    "-->\n"
   ]
  },
  {
   "cell_type": "markdown",
   "metadata": {},
   "source": [
    "<big><h4>Question 2 (c):</h4> The telescope you are using collects light using a 4-m mirror (in diameter) and focusses it onto a camera.  How much total energy is received from the star in a 30 second exposure? <p>\n",
    " \n",
    "    \n",
    "   <li> What is the telescope's light collecting area?  How long does it collect light for? \n",
    "    \n",
    "   <li> Flux has units of energy/s/m$^2$.  Use the flux that you calculated in part (a) to determine the total energy collected by the telescope in 30 s.<p>\n",
    "    \n",
    "   <li> Express your result in units of Joules (<tt>u.J</tt>)\n",
    "\n",
    "\n"
   ]
  },
  {
   "cell_type": "code",
   "execution_count": null,
   "metadata": {},
   "outputs": [],
   "source": [
    "#Use this cell to code your solution for question #2c\n",
    "\n",
    "##### define the radius of the telescope mirror, radius = ... (don't forget units)\n",
    "##### define the area of the mirror, tel_area = ...\n",
    "##### define the exposure time, time = ...\n",
    "##### calculate the total energy, total_energy = \n",
    "##### print your result (expressed in units of Joules)\n"
   ]
  },
  {
   "cell_type": "markdown",
   "metadata": {},
   "source": [
    "<font color=red>Instructor solution for question #2c  - double click to view</font>\n",
    "\n",
    "<!--\n",
    "radius = 2. * u.m\n",
    "tel_area = np.pi * radius**2\n",
    "time = 30. * u.s\n",
    "total_energy = flux * tel_area * time\n",
    "print(total_energy.to(u.J))\n",
    "-->\n"
   ]
  },
  {
   "cell_type": "markdown",
   "metadata": {},
   "source": [
    "<big>Astronomers often describe star brightnesses in terms of <font color=blue><b>mangitudes</b></font> rather than fluxes. All magnitudes are all defined <em>relative</em> to other magnitudes: <p>\n",
    "    $m_1 - m_2 = -2.5\\log{F_1/F_2}$ (2)\n",
    " \n",
    "<p>\n",
    "    \n",
    "Often in astronomy, we use the star Vega as our reference, defining $m_{Vega}=0$, irrespetive of wavelength.  Then our equation for magnitude becomes:\n",
    "<p>\n",
    "    $m = -2.5\\log{F/F_{Vega}}$ (3)\n",
    "<p>\n",
    "\n",
    "<h4>Question 3:</h4> \n",
    "Star A has a magnitude of 0 and star B has a magnitude of 25. How much brighter is Star A than Star B?"
   ]
  },
  {
   "cell_type": "code",
   "execution_count": null,
   "metadata": {},
   "outputs": [],
   "source": [
    "#Use this cell to code your solution for question #3\n",
    "\n",
    "##### define m1\n",
    "##### define m2\n",
    "##### write down an expression for F1/F2 (eg. f1_f2 = ...)\n",
    "##### print your result!"
   ]
  },
  {
   "cell_type": "markdown",
   "metadata": {},
   "source": [
    "<font color=red>Instructor solution for question #3  - double click to view</font>\n",
    "\n",
    "<!--\n",
    "m1=0\n",
    "m2=25\n",
    "f1_f2 = 10**((m1-m2)/(-2.5))\n",
    "print(f1_f2)\n",
    "#Star A is 10 billion times brighter than Star B\n",
    "-->"
   ]
  },
  {
   "cell_type": "markdown",
   "metadata": {},
   "source": [
    "<big>\n",
    "    As you can see from question 3, the magnitude scale is a logarithmic scale that effectively compresses many orders of mangitude in brightness into a simple scale from around 0 to 25.  Stars visbile with the naked eye typically have mangitudes of -1 to 6, and the faintest stars we can observe (using powerful telescopes) have magntiudes in the high 20s. <p>\n",
    "    \n",
    "When looking at data for stars of very different brightness it is often much more convenient to plot magnitudes rather than fluxes.   \n",
    "\n",
    "</big>"
   ]
  },
  {
   "cell_type": "markdown",
   "metadata": {},
   "source": [
    "<big><h4>Question 4:</h4>  What is the magnitude of a star that is one-fourth as bright as Vega?  Do magnitudes get larger or smaller as a star gets dimmer?\n",
    "    "
   ]
  },
  {
   "cell_type": "code",
   "execution_count": null,
   "metadata": {},
   "outputs": [],
   "source": [
    "#Use this cell to code your solution for question #4\n",
    "\n",
    "##### mag = ...\n",
    "##### print(mag)"
   ]
  },
  {
   "cell_type": "markdown",
   "metadata": {},
   "source": [
    "<font color=red>Instructor solution for question #4  - double click to view</font>\n",
    "<!--\n",
    "mag = -2.5*np.log(0.25) \n",
    "print(mag)\n",
    "Magnitudes become larger as stars get dimmer!\n",
    "--> "
   ]
  },
  {
   "cell_type": "markdown",
   "metadata": {},
   "source": [
    "<big> The <font color=blue><b>absolute magnitude</font></b> of a star is the magnitude it would have if it were at a distance of 10 parsecs.  Recall that the flux of a star is related to distance according to equation (1).  So the ratio of fluxes for a star at distance $d$ compared to a star at 10 parsecs is given by: <p>\n",
    "\n",
    "$\\frac{F_d}{F_{10}} = \\frac{L\\,/4\\pi d^2}{L\\,/4\\pi 10^2} = \\frac{10^2}{d^2}$\n",
    "\n",
    "<p>\n",
    "If the absolute mangitude of the star is $M$, and its regular mangitude is $m$, then we can calculate $m-M$ as:<p>\n",
    "    \n",
    "$m-M = -2.5\\log{F_d/F_{10}} = -2.5\\log{10^2/d^2} = 5\\log{d}-5$ (4)\n",
    "<p>\n",
    "    \n",
    "We call $m-M$ the <font color=blue><b>distance modulus</b></font>.  If we can measure $m$, and somehow know $M$ via some other method, this allows us to calculate the distance to a star!"
   ]
  },
  {
   "cell_type": "markdown",
   "metadata": {},
   "source": [
    "<big><h4>Question 5:</h4>  A star has an absolute magnitude of $M=12$ and a magnitude of $m=15$.  How far away is it?\n",
    "    "
   ]
  },
  {
   "cell_type": "code",
   "execution_count": null,
   "metadata": {},
   "outputs": [],
   "source": [
    "#Use this cell to code your solution for question #4. You might want to work out the solution with a pen and paper first.\n",
    "\n",
    "##### m = ...\n",
    "##### abs_m = ...\n",
    "##### dist = ...\n",
    "##### print(dist)\n"
   ]
  },
  {
   "cell_type": "markdown",
   "metadata": {},
   "source": [
    "<font color=red>Instructor solution for question #5  - double click to view</font>\n",
    "<!--\n",
    "m = 15\n",
    "abs_m = 12\n",
    "dist = 10**((m-abs_m+5)/5.)\n",
    "print(dist)\n",
    "--> "
   ]
  },
  {
   "cell_type": "markdown",
   "metadata": {},
   "source": [
    "<big>Let's read in some data for stars from the <b><font color=blue>Hipparcos catalog</font></b>.  Hipparcos was a sattleite that measured distances to many nearby stars by measuring their parallaxes.  We will read in distances of stars, as well their magnitudes.  The following code uses SQLite3 to do this.  The data are stored in python lists <tt>bmag</tt>, <tt>vmag</tt>, <tt>dist</tt>."
   ]
  },
  {
   "cell_type": "code",
   "execution_count": null,
   "metadata": {},
   "outputs": [],
   "source": [
    "#The following code loads B and V magntiudes of stars in the Hipparcos database\n",
    "#It also loads the distances to the stars measured by Hipparcos\n",
    "#These data are stored in the lists bmag, vmag, dist\n",
    "\n",
    "connection = sqlite3.connect('hipparcos_reduced.db')\n",
    "cursor = connection.cursor()\n",
    "sql_command = \"\"\"\n",
    "SELECT data.HIP, Bmag, Vmag, Dist\n",
    "FROM data\n",
    "JOIN photometry ON data.HIP = photometry.HIP\n",
    "WHERE e_Dist > 0 AND e_Dist < 10 and VMag !=0 AND \"Bmag\" !=0;\n",
    "\"\"\"\n",
    "cursor.execute(sql_command)\n",
    "results = cursor.fetchall()\n",
    "\n",
    "bmag = [item[1] for item in results]\n",
    "vmag = [item[2] for item in results]\n",
    "dist = [item[3] for item in results]\n",
    "\n",
    "bmag=np.array(bmag)\n",
    "vmag=np.array(vmag)\n",
    "dist=np.array(dist)\n",
    "\n",
    "print(bmag[0:3])\n",
    "print(vmag[0:3])"
   ]
  },
  {
   "cell_type": "markdown",
   "metadata": {},
   "source": [
    "<big>Notice that we have read in two different magnitudes for each star, a B magnitude and a V magntiude.  These are magnitudes measured in different wavelength ranges using the B (\"Blue\") and V (\"Visual\") filters.  The filter profiles for the <font color=blue><b>Johnson-Cousins photometric system</font></b> have the following throughputs:</big>"
   ]
  },
  {
   "cell_type": "code",
   "execution_count": null,
   "metadata": {},
   "outputs": [],
   "source": [
    "#Run this cell to plot the Johnson-Cousins UBVRI filter profiles\n",
    "filters = ['Bessel_U-1.txt','Bessel_B-1.txt','Bessel_V-1.txt','Bessel_R-1.txt']\n",
    "filtname=['U','B','V','R']\n",
    "%matplotlib inline\n",
    "fig, ax = plt.subplots(1,figsize=(7,5))\n",
    "ax.set_title(\"Johnson-Cousins Photometric System\")\n",
    "ax.grid(True, zorder=5)\n",
    "\n",
    "bdata = ascii.read(filters[1])\n",
    "vdata = ascii.read(filters[2])\n",
    "\n",
    "for i, filter in enumerate(filters):\n",
    "    data = ascii.read(filter)\n",
    "    wav = data['col1']\n",
    "    thru = data['col2']\n",
    "    ax.plot(wav,thru,label=filtname[i])\n",
    "    ax.fill(wav,thru, zorder=0,alpha=0.3,label='')\n",
    "\n",
    "ax.legend()\n",
    "plt.xlabel('Wavelength (nm)')\n",
    "plt.ylabel('Throughput (%)')\n",
    "plt.xlim(250,900)"
   ]
  },
  {
   "cell_type": "markdown",
   "metadata": {},
   "source": [
    "<big> When we measure magnitudes for a star in more than one filter (e.g. m$_B$ and m$_V$), we can measure the difference between these magnitudes to obtain a <font color=blue><b>color index</font></b>, B-V.  The color index gives you a rough idea hot hot a star is.  Generally, red stars (large color index) are cooler and blue stars (low color index) are hotter.<p>\n",
    "    \n",
    "To examine why, we need to understand how a star's spectrum depends on temperature.  Stars radiate approximately like blackbodies, which are described by the <font color=blue><b>Planck function</font></b>.  A blackbody's spectrum depends only on temperature. I've defined the Planck function for you below, and have plotted it (run next two cells).  Play with the temperature value in the next cell to see how the spectrum (and color index you would measure) changes."
   ]
  },
  {
   "cell_type": "code",
   "execution_count": null,
   "metadata": {},
   "outputs": [],
   "source": [
    "##### Try adjusting the temperature below, then run the next cell!\n",
    "temp = 5000"
   ]
  },
  {
   "cell_type": "code",
   "execution_count": null,
   "metadata": {},
   "outputs": [],
   "source": [
    "#define Planck Function\n",
    "def planck_function(wavelength, temp):\n",
    "    '''inputs should be in nanometers and Kelvin'''\n",
    "    h = 6.626e-34 # m2 kg / s\n",
    "    k = 1.381e-23 #m2 kg s-2 K-1\n",
    "    c = 3.0e8 #m/s\n",
    "    \n",
    "    wavelength = wavelength/1e9 #convert to meters\n",
    "    top = 2*h*c**2/wavelength**5\n",
    "    bottom = (np.exp((h*c)/(wavelength*k*temp)) - 1)\n",
    "    funct = top/bottom / 1e9 #convert to W/m2/nm/sr\n",
    "    return funct\n",
    "    \n",
    "lam = np.linspace(100, 1500, num=100)\n",
    "intensity = planck_function(lam, temp)\n",
    "\n",
    "#Plot the Planck Function\n",
    "plt.xlabel(\"Wavelength (nm)\")\n",
    "plt.ylabel(\"Intensity (W/m2/nm/sr)\")\n",
    "plt.title(\"Plank Function\")\n",
    "plt.plot(lam,intensity)\n",
    "\n",
    "wav = bdata['col1']\n",
    "thru = bdata['col2']/np.max(bdata['col2'])*np.max(intensity)\n",
    "plt.fill(wav,thru, zorder=0,alpha=0.3,label='B')\n",
    "wav = vdata['col1']\n",
    "thru = vdata['col2']/np.max(vdata['col2'])*np.max(intensity)\n",
    "plt.fill(wav,thru, zorder=0,alpha=0.3,label='V')\n",
    "plt.legend()"
   ]
  },
  {
   "cell_type": "markdown",
   "metadata": {},
   "source": [
    "<big>Now let's plot some of the data from the <b><font color=blue>Hipparcos catalog</font></b> that we previously stored as <tt>bmag</tt>, <tt>vmag</tt>, <tt>dist</tt>. <p>\n",
    "    \n",
    "<h4>Question 6: In this exercise you will plot a <font color=red>Color-Magnitude diagram</font> for the Hipparcos data.  </h4>\n",
    "<li>First, convert the list of Hipparcos B-magnitudes into <em>absolute</em> B magnitudes using equation 4.<p>\n",
    "<li>Next, calculate the B-V color indices for the Hipparcos stars <p>\n",
    "<li>Finally, create the color-magnitude diagram by plotting the Absolute V magnitude as a function of B-V.  Don't forget to label your plot and axes using <tt>plt.xlabel(\"xlabel\" )</tt>, <tt>plt.ylabel(\"ylabel\")</tt>, <tt>plt.title(\"title\")</tt><p>\n",
    "<li>Since smaller magnitudes are brighter, we typically plot magntiude as decreasing along the y-axis.  You can invert the y-axis of your plot using <tt>plt.ylim(plt.ylim()[::-1])</tt>"
   ]
  },
  {
   "cell_type": "code",
   "execution_count": null,
   "metadata": {},
   "outputs": [],
   "source": [
    "#Use this cell to code your solution for question #6.\n",
    "\n",
    "##### abs_vmag = ...\n",
    "##### b_v = ...\n",
    "##### plt.plot(...)\n",
    "##### label x-axis\n",
    "##### label y-axis\n",
    "##### invert y-axis"
   ]
  },
  {
   "cell_type": "markdown",
   "metadata": {},
   "source": [
    "<font color=red>Instructor solution for question #6  - double click to view</font>\n",
    "<!--\n",
    "abs_vmag = vmag+5 - 5*np.log10(dist)\n",
    "plt.title('Hipparcos Color-Magnitude Diagram')\n",
    "b_v = bmag-vmag\n",
    "plt.plot(b_v,abs_vmag,'.')\n",
    "plt.ylim(plt.ylim()[::-1]) #invert y-axis\n",
    "plt.xlabel(\"B-V\")\n",
    "plt.ylabel(\"V\")\n",
    "-->"
   ]
  },
  {
   "cell_type": "markdown",
   "metadata": {},
   "source": [
    "<h4>Question 7:</h4>\n",
    "<li> What patterns/groupings of stars can you identify in your color-magnitude diagram?<p>\n",
    "<li> What physical quantity does the x-axis (color index) correspond to? (Luminosity, Flux, Distance, Temperature?)<p>\n",
    "<li> What physial quantity does the y-axis (absoulte V magnitude) correspond to? (Luminosity, Flux, Distance, Temperature?)<p>\n",
    "<li> How do you think the radii of stars changes on this diagram?<p>\n",
    "\n",
    "After thinking about the above questions you are prepared to learn about the Hertzsprung-Russell Diagram, one of the most important diagrams in astronomy!"
   ]
  },
  {
   "cell_type": "markdown",
   "metadata": {},
   "source": [
    "<font color=red>Instructor solution for question #7  - double click to view</font>\n",
    "<!--\n",
    " Nothing here yet.\n",
    "-->"
   ]
  }
 ],
 "metadata": {
  "kernelspec": {
   "display_name": "Python 3",
   "language": "python",
   "name": "python3"
  },
  "language_info": {
   "codemirror_mode": {
    "name": "ipython",
    "version": 3
   },
   "file_extension": ".py",
   "mimetype": "text/x-python",
   "name": "python",
   "nbconvert_exporter": "python",
   "pygments_lexer": "ipython3",
   "version": "3.6.4"
  }
 },
 "nbformat": 4,
 "nbformat_minor": 2
}
