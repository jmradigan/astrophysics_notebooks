{
 "cells": [
  {
   "cell_type": "markdown",
   "metadata": {},
   "source": [
    "<h1>ASTR3050: Introduction to Python Worksheet</h1>\n",
    "\n",
    "This is an example of a \"Markdown\" cell.\n",
    "\n",
    "We will use these to comment what we're coding.\n",
    "\n",
    "We can <b><font color=\"blue\">format</b></font> this text using basic <big><b><font color=\"blue\">HTML</big></b></font>.  Double click on this cell to see the source."
   ]
  },
  {
   "cell_type": "markdown",
   "metadata": {},
   "source": [
    "<font color=\"navy\">Let's write our first Python script.  We will create a <em>string</em> variable called <font color=\"black\"> <tt>output_string</tt></font>, and then print the output: </font>"
   ]
  },
  {
   "cell_type": "code",
   "execution_count": 1,
   "metadata": {},
   "outputs": [
    {
     "name": "stdout",
     "output_type": "stream",
     "text": [
      "hello_world\n"
     ]
    }
   ],
   "source": [
    "output_string=\"hello_world\"\n",
    "print(output_string)"
   ]
  },
  {
   "cell_type": "markdown",
   "metadata": {},
   "source": [
    "<font color=\"navy\">Strings are variables that contain text.  We use 'single' or \"double\" quotations to represent the text string.  Strings are only one type of variable.  Let's take a look at integer and floating point numbers:"
   ]
  },
  {
   "cell_type": "code",
   "execution_count": 2,
   "metadata": {},
   "outputs": [
    {
     "name": "stdout",
     "output_type": "stream",
     "text": [
      "3\n",
      "3.0\n"
     ]
    }
   ],
   "source": [
    "x_integer = 3\n",
    "x_float = 3.\n",
    "print (x_integer)\n",
    "print (x_float)"
   ]
  },
  {
   "cell_type": "markdown",
   "metadata": {},
   "source": [
    "<font color=\"navy\">Notice how we use a decimal to define the floating point number?  Operations with integers and floating points behave differently.  As of Python 3, integers are treated like floating point numbers in division operations unless you explicity us the \"//\" operator to specify integer division (this wasn't true in Python 2). For example, compare the outputs below for integer and floating point division:"
   ]
  },
  {
   "cell_type": "code",
   "execution_count": 4,
   "metadata": {},
   "outputs": [
    {
     "name": "stdout",
     "output_type": "stream",
     "text": [
      "0.3333333333333333\n",
      "0.3333333333333333\n",
      "0.3333333333333333\n",
      "0\n"
     ]
    }
   ],
   "source": [
    "y_integer = 1\n",
    "y_float = 1.\n",
    "print (y_integer/x_integer)\n",
    "print (y_float/x_float)\n",
    "print (y_integer/x_float)\n",
    "print (y_integer//x_integer)"
   ]
  },
  {
   "cell_type": "markdown",
   "metadata": {},
   "source": [
    "<font color=\"navy\">Let's define a <big><b>function</big></b>, starting with something simple like a straight line: <p>\n",
    "\n",
    "$f(x) = mx + b$\n",
    "\n",
    "A function takes some inputs, called <em>arguments</em> and uses them to <em> return</em> an output. To define a function we use a <tt><b><font color=black>def</font></b></tt> statement, followed by the a colon.  The function name and arguments (comma-separated, inside parentheses) should be something descriptive.  In the example below the function takes x value(s), slope, and intercept, and returns y_value(s)."
   ]
  },
  {
   "cell_type": "code",
   "execution_count": 5,
   "metadata": {},
   "outputs": [],
   "source": [
    "def linear_function(x_values, slope, intercept):\n",
    "    y_values = slope*x_values + intercept\n",
    "    return y_values  "
   ]
  },
  {
   "cell_type": "markdown",
   "metadata": {},
   "source": [
    "<font color=navy> Now we can use our function.  Let's test it out:"
   ]
  },
  {
   "cell_type": "code",
   "execution_count": 6,
   "metadata": {},
   "outputs": [
    {
     "name": "stdout",
     "output_type": "stream",
     "text": [
      "6.0\n"
     ]
    }
   ],
   "source": [
    "#define our inputs (all floats)\n",
    "#(Notice how we can insert comments directly into our code using hash symbols?)\n",
    "x_value = 2.\n",
    "slope = 3.\n",
    "intercept = 0.\n",
    "\n",
    "#calculate the output using our function\n",
    "y_value = linear_function(x_value, slope, intercept)\n",
    "print (y_value)"
   ]
  },
  {
   "cell_type": "markdown",
   "metadata": {},
   "source": [
    "<font color=navy>Often we will want our x-values to be vectors or arrays of numbers. For instance, tabulated data. Python has a package for scientific computing called NumPy that will allow us to perform operations on entire arrays.  To load the package we use the <tt><b><font color=black>import</font></b></tt> command</font>:"
   ]
  },
  {
   "cell_type": "code",
   "execution_count": 7,
   "metadata": {},
   "outputs": [],
   "source": [
    "import numpy as np #now we can simply use the shorthand 'np' to use the package"
   ]
  },
  {
   "cell_type": "markdown",
   "metadata": {},
   "source": [
    "<font color=navy>We can use NumPy's <tt><b><font=black>linspace</font></tt></b> function to create an entire vector of x-values.  To see how the function works, Google \"numpy linspace\" to find the documentation: https://docs.scipy.org/doc/numpy-1.13.0/reference/generated/numpy.linspace.html"
   ]
  },
  {
   "cell_type": "code",
   "execution_count": 10,
   "metadata": {},
   "outputs": [
    {
     "name": "stdout",
     "output_type": "stream",
     "text": [
      "[ 0.          0.52631579  1.05263158  1.57894737  2.10526316  2.63157895\n",
      "  3.15789474  3.68421053  4.21052632  4.73684211  5.26315789  5.78947368\n",
      "  6.31578947  6.84210526  7.36842105  7.89473684  8.42105263  8.94736842\n",
      "  9.47368421 10.        ]\n"
     ]
    }
   ],
   "source": [
    "start=0. #smallest number in array\n",
    "stop=10 #highest number in array\n",
    "num = 20 #number of data points to generate\n",
    "\n",
    "x_values = np.linspace(start,stop,num)\n",
    "\n",
    "#let's take a look at the 1 X num array we created\n",
    "print (x_values)"
   ]
  },
  {
   "cell_type": "code",
   "execution_count": 11,
   "metadata": {},
   "outputs": [
    {
     "name": "stdout",
     "output_type": "stream",
     "text": [
      "<class 'numpy.ndarray'>\n"
     ]
    }
   ],
   "source": [
    "#what's the data type?\n",
    "print (type(x_values))"
   ]
  },
  {
   "cell_type": "code",
   "execution_count": 12,
   "metadata": {},
   "outputs": [
    {
     "name": "stdout",
     "output_type": "stream",
     "text": [
      "3.6842105263157894\n"
     ]
    }
   ],
   "source": [
    "#what if we only want to see the nth value of the array?\n",
    "n=7\n",
    "print (x_values[n])"
   ]
  },
  {
   "cell_type": "code",
   "execution_count": 13,
   "metadata": {},
   "outputs": [
    {
     "name": "stdout",
     "output_type": "stream",
     "text": [
      "[2.63157895 3.15789474 3.68421053 4.21052632 4.73684211 5.26315789\n",
      " 5.78947368 6.31578947]\n"
     ]
    }
   ],
   "source": [
    "#what if we want to see the n1th - n2th values of the array?\n",
    "n1=5\n",
    "n2=13\n",
    "print (x_values[n1:n2])"
   ]
  },
  {
   "cell_type": "markdown",
   "metadata": {},
   "source": [
    "<font color=navy> Now we can try our function out on the entire x_values array, to get a corresponding array of y_values:"
   ]
  },
  {
   "cell_type": "code",
   "execution_count": 14,
   "metadata": {},
   "outputs": [
    {
     "name": "stdout",
     "output_type": "stream",
     "text": [
      "[ 0.          1.57894737  3.15789474  4.73684211  6.31578947  7.89473684\n",
      "  9.47368421 11.05263158 12.63157895 14.21052632 15.78947368 17.36842105\n",
      " 18.94736842 20.52631579 22.10526316 23.68421053 25.26315789 26.84210526\n",
      " 28.42105263 30.        ]\n"
     ]
    }
   ],
   "source": [
    "y_values = linear_function(x_values,slope,intercept)\n",
    "print (y_values)"
   ]
  },
  {
   "cell_type": "markdown",
   "metadata": {},
   "source": [
    "<font color=navy>Print statements for large arrays aren't super useful.  To examine the output of our function we should really <big><b>plot</b></big> the results.  To do this we will use another Python package called PyPlot, which is a subpackage of MatPlotLib:"
   ]
  },
  {
   "cell_type": "code",
   "execution_count": 15,
   "metadata": {},
   "outputs": [],
   "source": [
    "import matplotlib.pyplot as plt\n",
    "%matplotlib inline \n",
    "\n",
    "#the second line will allow the plot to display in the Jupyter Notebook."
   ]
  },
  {
   "cell_type": "markdown",
   "metadata": {},
   "source": [
    "<font color=navy>Now let's plot the x and y values:"
   ]
  },
  {
   "cell_type": "code",
   "execution_count": 16,
   "metadata": {},
   "outputs": [
    {
     "data": {
      "image/png": "[encoded data removed]",
      "text/plain": [
       "<Figure size 432x288 with 1 Axes>"
      ]
     },
     "metadata": {},
     "output_type": "display_data"
    }
   ],
   "source": [
    "plt.plot(x_values,y_values)\n",
    "\n",
    "#always label your axes\n",
    "plt.ylabel('Some y-values')\n",
    "plt.xlabel('Some x-values')\n",
    "plt.title('Example of Plotting a Line')\n",
    "\n",
    "#show the plot\n",
    "plt.show()"
   ]
  },
  {
   "cell_type": "markdown",
   "metadata": {},
   "source": [
    "<font color=navy>Take a look at all of the more complicated things you can do with MatPlotLib:\n",
    "https://matplotlib.org/gallery/index.html\n",
    "\n",
    "A few more basics - try changing the plotting symbol and/or colors.  We'll create a few differnt lines to test this out:"
   ]
  },
  {
   "cell_type": "code",
   "execution_count": 17,
   "metadata": {},
   "outputs": [
    {
     "data": {
      "image/png": "[encoded data removed]",
      "text/plain": [
       "<Figure size 432x288 with 1 Axes>"
      ]
     },
     "metadata": {},
     "output_type": "display_data"
    }
   ],
   "source": [
    "\n",
    "#create some more lines with different parameters\n",
    "y_values2 = linear_function(x_values,1.,0.)\n",
    "y_values3 = linear_function(x_values,2.,0.)\n",
    "y_values4 = linear_function(x_values,1.,5.)\n",
    "\n",
    "plt.plot(x_values,y_values,'o') #plot with dots\n",
    "plt.plot(x_values,y_values2,'r') #plot with red line\n",
    "plt.plot(x_values,y_values3,'og') #plot with red dots\n",
    "plt.plot(x_values,y_values4,'--r') #plot with red dashed line\n",
    "\n",
    "#always label your axes\n",
    "plt.ylabel('Some y-values')\n",
    "plt.xlabel('Some x-values')\n",
    "plt.title('Examples of Plotting a Line with different symbols')\n",
    "\n",
    "#show the plot\n",
    "plt.show()"
   ]
  },
  {
   "cell_type": "markdown",
   "metadata": {},
   "source": [
    "<font color=navy><big><b> Exercise 1:</b></big> Define a function that, given an array of wavelengths and a temperature as inputs, will return the Planck Function. <p>\n",
    "\n",
    "(a) Define <tt><font color=black>planck_function</font></tt>. Here are some pointers:<p>\n",
    "\n",
    "$ e^x $ = <tt><font color=black> np.exp(x)</font> <p>\n",
    "\n",
    "$ x^n $ = <tt><font color=black> x**n</font> <p>\n",
    "\n",
    "\n",
    "\n",
    "(b)Use <tt><font color=black>np.linspace</font></tt> to create a vector of wavelenghts (e.g. ranging from zero to some lambda_max).<p>\n",
    "(c)Use your function to evaluate the Planck function at a few different temperatures, then plot the result.<p>\n"
   ]
  },
  {
   "cell_type": "code",
   "execution_count": null,
   "metadata": {},
   "outputs": [],
   "source": [
    "#Code your answer to question 1(a) here. I've provided the basic skeleton:\n",
    "\n",
    "#define Planck Function - I've provided the basic skeleton\n",
    "def planck_function(wavelength, temp):\n",
    "    planck_function  = 0.\n",
    "    return planck_function"
   ]
  },
  {
   "cell_type": "markdown",
   "metadata": {},
   "source": [
    "<font color=red>Instructor solution to question 1(a)</font>\n",
    "\n",
    "<!--\n",
    "def planck_function(wavelength, temp):\n",
    "    #takes wavelength in nanometers, temp in Kelvin\n",
    "    h = 6.626e-34\n",
    "    k = 1.381e-23\n",
    "    c = 3e8\n",
    "    wavelength = wavelength /1e9 #convert to meters\n",
    "    numerator = 2.*h*c**2/wavelength**5\n",
    "    denominator = np.exp((h*c)/(wavelength*k*temp)) - 1\n",
    "\n",
    "    planck_function = numerator/denominator / 1e9 #convert to W/m2/sr/nm\n",
    "    return planck_function\n",
    "-->"
   ]
  },
  {
   "cell_type": "code",
   "execution_count": 28,
   "metadata": {},
   "outputs": [],
   "source": [
    "#Code your answer to question 1(b) here.\n",
    "#wavelenghts = np.linspace(...)"
   ]
  },
  {
   "cell_type": "markdown",
   "metadata": {},
   "source": [
    "<font color=red>Instructor solution to question 1(b)</font>\n",
    "<!--\n",
    "wavelength = np.linspace(100, 3000, num=100) #nanometers\n",
    "-->"
   ]
  },
  {
   "cell_type": "code",
   "execution_count": 29,
   "metadata": {},
   "outputs": [],
   "source": [
    "#Code your answer to question 1(c) here.\n",
    "\n",
    "#temp = ...\n",
    "#intensity = planck_function(...)\n",
    "#plt.plot(...)\n",
    "#don't forget to label your axes!"
   ]
  },
  {
   "cell_type": "markdown",
   "metadata": {},
   "source": [
    "<font color=red>Instructor solution to question 1(b)</font>\n",
    "\n",
    "<!--\n",
    "temp = 5000\n",
    "intensity = planck_function(wavelength, temp)\n",
    "plt.plot(wavelength, intensity)\n",
    "temp = 7000\n",
    "intensity = planck_function(wavelength, temp)\n",
    "plt.plot(wavelength, intensity)\n",
    "plt.xlabel('Wavelength (nanometers)')\n",
    "plt.ylabel('Intensity (W/m2/sr/nm)')\n",
    "plt.title('Planck Function')\n",
    "-->"
   ]
  }
 ],
 "metadata": {
  "anaconda-cloud": {},
  "kernelspec": {
   "display_name": "Python 3",
   "language": "python",
   "name": "python3"
  },
  "language_info": {
   "codemirror_mode": {
    "name": "ipython",
    "version": 3
   },
   "file_extension": ".py",
   "mimetype": "text/x-python",
   "name": "python",
   "nbconvert_exporter": "python",
   "pygments_lexer": "ipython3",
   "version": "3.6.4"
  }
 },
 "nbformat": 4,
 "nbformat_minor": 1
}
