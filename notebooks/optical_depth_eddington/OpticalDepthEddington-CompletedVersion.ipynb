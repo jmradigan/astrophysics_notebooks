{
 "cells": [
  {
   "cell_type": "markdown",
   "metadata": {},
   "source": [
    "<h1>ASTR3050 Python Worksheet</h1>\n",
    "\n",
    "In this worksheet your will find a numerical solution to problem 9.28 from Carroll & Ostlie."
   ]
  },
  {
   "cell_type": "code",
   "execution_count": null,
   "metadata": {},
   "outputs": [],
   "source": [
    "import numpy as np\n",
    "import matplotlib.pyplot as plt\n",
    "%matplotlib inline"
   ]
  },
  {
   "cell_type": "markdown",
   "metadata": {},
   "source": [
    "<font color=navy><big><b>Problem 9.28 from C&O: </b></big><p>\n",
    "\n",
    "In this problem you will use the values of the density and opacity at various points near the surface of the star to calculate optical depth and of these points.  The data in Table 9.5 were obtained from the stellar model building program <tt>StarStar</tt>, described in section 10.5 and Appendix L.  The first point listed is at the surface of the stellar model.<p>\n",
    "\n",
    "<b>(a) First you will need to read in Table 9.5.  To do this we will use the astropy.io.ascii function:</b>\n",
    "<p>This table can be read with the following:</p>\n",
    "<div class=\"highlight-python\"><div class=\"highlight\"><pre><span class=\"gp\">&gt;&gt;&gt; </span><span class=\"kn\">from</span> <span class=\"nn\">astropy.io</span> <span class=\"kn\">import</span> <span class=\"n\">ascii</span>\n",
    "<span class=\"gp\">&gt;&gt;&gt; </span><span class=\"n\">data</span> <span class=\"o\">=</span> <span class=\"n\">ascii</span><span class=\"o\">.</span><span class=\"n\">read</span><span class=\"p\">(</span><span class=\"s\">&quot;CO_Table95v2.txt&quot;</span><span class=\"p\">)</span>\n",
    "\n",
    "</pre></div>\n",
    "</div>\n",
    "\n",
    "<font color=navy> You now have a table objet called <tt><font color=black>data</tt></font>.  Try the print command to see what it looks like. <p>"
   ]
  },
  {
   "cell_type": "code",
   "execution_count": null,
   "metadata": {},
   "outputs": [],
   "source": [
    "#Import the ascii module, and read in the starstar_model data\n",
    "from astropy.io import ascii\n",
    "data = ascii.read(\"CO_Table95v2.txt\")\n",
    "print(data)"
   ]
  },
  {
   "cell_type": "markdown",
   "metadata": {},
   "source": [
    "<font color=red>Instructor Solution for part (a)</font>\n",
    "\n",
    "<!--\n",
    "#Import the ascii module, and read in the starstar_model data\n",
    "from astropy.io import ascii\n",
    "data = ascii.read(\"CO_Table95v2.txt\")\n",
    "print(data)\n",
    "-->"
   ]
  },
  {
   "cell_type": "markdown",
   "metadata": {},
   "source": [
    "Note that the table contains values for the Temperature (T), denisty (rho) and opacity (kappa) at various points (r) near the surface of a star.  In part (c) we are going to integrate $\\tau = \\int d\\tau = -\\kappa\\rho ds$ through the atmosphere of the star (note that since photons travel upwards from the interior, $ds=dr$ here).  <p>\n",
    "    \n",
    " <p>To manipulate individual columns of the table, you may use the following:</p>\n",
    "<div class=\"highlight-python\"><div class=\"highlight\"><pre><span class=\"gp\">&gt;&gt;&gt; </span> <span class=\"nn\">radius = data[\"r\"][0:60]</span> \n",
    "</pre></div>\n",
    "</div>"
   ]
  },
  {
   "cell_type": "markdown",
   "metadata": {},
   "source": [
    "<b>(b) To visualize the function you will integrate over, make a plot of $\\kappa\\rho$ vs. $r$ </b>. After you've read part (c), think about what area under the curve $\\tau_{i+1}-\\tau_i$ corresponds to.  Does the expression for the simple trapezoidal rule given in part (c) make sense? <p>"
   ]
  },
  {
   "cell_type": "code",
   "execution_count": 5,
   "metadata": {},
   "outputs": [
    {
     "data": {
      "text/plain": [
       "[<matplotlib.lines.Line2D at 0x15161ca128>]"
      ]
     },
     "execution_count": 5,
     "metadata": {},
     "output_type": "execute_result"
    },
    {
     "data": {
      "image/png": "[encoded data removed]",
      "text/plain": [
       "<Figure size 432x288 with 1 Axes>"
      ]
     },
     "metadata": {},
     "output_type": "display_data"
    }
   ],
   "source": [
    "r = data[\"r\"][0:60]\n",
    "temp = data[\"T\"][0:60]\n",
    "rho = data[\"rho\"][0:60]\n",
    "kappa = data[\"kap\"][0:60]\n",
    "\n",
    "plt.xlabel(\"Radius (m)\")\n",
    "plt.ylabel(\"Kappa*rho (kg/m3)\")\n",
    "plt.plot(r, kappa*rho)"
   ]
  },
  {
   "cell_type": "markdown",
   "metadata": {},
   "source": [
    "<font color=red>Instructor Solution for part (b)</font>\n",
    "\n",
    "<!--\n",
    "r = data[\"r\"][0:60]\n",
    "temp = data[\"T\"][0:60]\n",
    "rho = data[\"rho\"][0:60]\n",
    "kappa = data[\"kap\"][0:60]\n",
    "\n",
    "plt.xlabel(\"Radius (m)\")\n",
    "plt.ylabel(\"Kappa*rho (kg/m3)\")\n",
    "plt.plot(r, kappa*rho)\n",
    "-->"
   ]
  },
  {
   "cell_type": "markdown",
   "metadata": {},
   "source": [
    "<b>(c) Compute the optical depth, $\\tau$, at each point by numerically integrating Eq. (9.15).  Use a simple trapezoidal rule such that:</b><p>\n",
    "$d\\tau = -\\kappa\\rho ds$<p>\n",
    "\n",
    "becomes<p>\n",
    "\n",
    "$\\tau_{i+1}-\\tau_i =-\\big(\\dfrac{\\kappa_i\\rho_i\\,\\, +\\,\\, \\kappa_{i+1}\\rho_{i+1}}{2}\\big)(r_{i+1}-r_{-i})$<p>\n",
    "\n",
    "Where $i$ and $i+1$ designate adjacent zones in the model.  Note that because $s$ is measured along the path traveled by the photons, $ds=dr$.<p>\n",
    "\n",
    "<font color=green>(Hint: what is $\\tau_0$?  One you know this, you can calculate all other $\\tau_i$).</font> \n",
    "<p>\n",
    "    \n",
    "To do this you will need to use a for-loop.  Take a look at the example below."
   ]
  },
  {
   "cell_type": "code",
   "execution_count": 7,
   "metadata": {},
   "outputs": [
    {
     "name": "stdout",
     "output_type": "stream",
     "text": [
      "2.0\n",
      "5.0\n",
      "8.0\n",
      "11.0\n",
      "14.0\n",
      "17.0\n",
      "20.0\n",
      "23.0\n",
      "26.0\n",
      "29.0\n",
      "32.0\n",
      "35.0\n",
      "38.0\n",
      "41.0\n",
      "44.0\n",
      "47.0\n",
      "50.0\n",
      "53.0\n",
      "56.0\n",
      "59.0\n",
      "62.0\n",
      "65.0\n",
      "68.0\n",
      "71.0\n",
      "74.0\n",
      "77.0\n",
      "80.0\n",
      "83.0\n",
      "86.0\n",
      "89.0\n",
      "92.0\n",
      "95.0\n",
      "98.0\n",
      "101.0\n",
      "104.0\n",
      "107.0\n",
      "110.0\n",
      "113.0\n",
      "116.0\n",
      "119.0\n",
      "122.0\n",
      "125.0\n",
      "128.0\n",
      "131.0\n",
      "134.0\n",
      "137.0\n",
      "140.0\n",
      "143.0\n",
      "146.0\n",
      "149.0\n",
      "152.0\n",
      "155.0\n",
      "158.0\n",
      "161.0\n",
      "164.0\n",
      "167.0\n",
      "170.0\n",
      "173.0\n",
      "176.0\n"
     ]
    }
   ],
   "source": [
    "n = len(r)\n",
    "tau = np.zeros(n)\n",
    "tau[0]=2.\n",
    "for i in range(n-1):\n",
    "    tau[i+1]=tau[i]+3\n",
    "    print(tau[i])"
   ]
  },
  {
   "cell_type": "code",
   "execution_count": 9,
   "metadata": {},
   "outputs": [],
   "source": [
    "#This cell is for part (c)\n",
    "\n",
    "r = data[\"r\"][0:60]\n",
    "temperature = data[\"T\"][0:60]\n",
    "rho = data[\"rho\"][0:60]\n",
    "kappa = data[\"kap\"][0:60]\n",
    "\n",
    "n = len(r)\n",
    "tau = np.zeros(n)\n",
    "tau[0]=0.\n",
    "for i in range(n-1):\n",
    "    tau[i+1]=tau[i] - 0.5*(kappa[i+1]*rho[i+1] + kappa[i]*rho[i])*(r[i+1]-r[i])"
   ]
  },
  {
   "cell_type": "markdown",
   "metadata": {},
   "source": [
    "<font color=red>Instructor Solution for part (c)</font>\n",
    "\n",
    "<!--\n",
    "r = data[\"r\"][0:60]\n",
    "temperature = data[\"T\"][0:60]\n",
    "rho = data[\"rho\"][0:60]\n",
    "kappa = data[\"kap\"][0:60]\n",
    "\n",
    "n = len(r)\n",
    "tau = np.zeros(n)\n",
    "tau[0]=0.\n",
    "for i in range(n-1):\n",
    "    tau[i+1]=tau[i] - 0.5*(kappa[i+1]*rho[i+1] + kappa[i]*rho[i])*(r[i+1]-r[i])\n",
    "-->"
   ]
  },
  {
   "cell_type": "markdown",
   "metadata": {},
   "source": [
    "<b> (d)Make a graph of the temperature ($T$, vertical axis) vs the optical depth ($\\tau$).</b>  Don't forget to label your axes!<p>"
   ]
  },
  {
   "cell_type": "code",
   "execution_count": 20,
   "metadata": {},
   "outputs": [
    {
     "data": {
      "text/plain": [
       "Text(0,0.5,'Temperature (K)')"
      ]
     },
     "execution_count": 20,
     "metadata": {},
     "output_type": "execute_result"
    },
    {
     "data": {
      "image/png": "[encoded data removed]",
      "text/plain": [
       "<Figure size 432x288 with 1 Axes>"
      ]
     },
     "metadata": {},
     "output_type": "display_data"
    }
   ],
   "source": [
    "plt.plot(tau,temp)\n",
    "plt.xlabel('Optical depth')\n",
    "plt.ylabel('Temperature (K)')"
   ]
  },
  {
   "cell_type": "markdown",
   "metadata": {},
   "source": [
    "<font color=red>Instructor Solution for part (d)</font>\n",
    "\n",
    "<!--\n",
    "plt.plot(tau,temp)\n",
    "plt.xlabel('Optical depth')\n",
    "plt.ylabel('Temperature (K)')\n",
    "-->"
   ]
  },
  {
   "cell_type": "markdown",
   "metadata": {},
   "source": [
    "<b>(e)For each value of the optical depth, use the Eddiginton approximation (Eq. 9.53) to compute the temperature of a plane-parallel gray atmosphere in LTE:<p>\n",
    "$T^4 = \\frac{3}{4}T_e^4 \\big(\\tau_v + \\frac{2}{3}\\big)$    <p>\n",
    "    \n",
    "Plot these values of $T$ on the same graph. as in part (d).  You can examine the portion of the plot close to $\\tau=0$ by adjusting the x-axis limits:</b> <tt>plt.xlim(0,10000)</tt>"
   ]
  },
  {
   "cell_type": "code",
   "execution_count": 26,
   "metadata": {},
   "outputs": [
    {
     "data": {
      "text/plain": [
       "(0, 10000)"
      ]
     },
     "execution_count": 26,
     "metadata": {},
     "output_type": "execute_result"
    },
    {
     "data": {
      "image/png": "[encoded data removed]",
      "text/plain": [
       "<Figure size 432x288 with 1 Axes>"
      ]
     },
     "metadata": {},
     "output_type": "display_data"
    }
   ],
   "source": [
    "#This cell is for part (e)\n",
    "\n",
    "t_e= 5504.\n",
    "t_approx = 3./4.*t_e**4*(tau + 2/3)\n",
    "\n",
    "plt.plot(tau,temp)\n",
    "plt.plot(tau,t_approx**0.25)\n",
    "plt.xlabel('Optical depth')\n",
    "plt.ylabel('Temperature (K)')\n",
    "plt.xlim(0,10000)"
   ]
  },
  {
   "cell_type": "markdown",
   "metadata": {},
   "source": [
    "<font color=red>Instructor Solution for part (e)</font>\n",
    "\n",
    "<!--\n",
    "t_e= 5504.\n",
    "t_approx = 3./4.*t_e**4*(tau + 2/3)\n",
    "\n",
    "plt.plot(tau,temp)\n",
    "plt.plot(tau,t_approx**0.25)\n",
    "plt.xlabel('Optical depth')\n",
    "plt.ylabel('Temperature (K)')\n",
    "plt.xlim(0,10000)\n",
    "-->"
   ]
  },
  {
   "cell_type": "markdown",
   "metadata": {},
   "source": [
    "<b>(f)The <tt>StarStar</tt> program utilizes a simplifying assumption that the surface temperature is zero (see Appendix L).  Comment on the validity of the surface value of $T$ that you found in part (e). <b>"
   ]
  },
  {
   "cell_type": "code",
   "execution_count": 27,
   "metadata": {},
   "outputs": [],
   "source": [
    "#This cell is for part (f)"
   ]
  }
 ],
 "metadata": {
  "anaconda-cloud": {},
  "kernelspec": {
   "display_name": "Python 3",
   "language": "python",
   "name": "python3"
  },
  "language_info": {
   "codemirror_mode": {
    "name": "ipython",
    "version": 3
   },
   "file_extension": ".py",
   "mimetype": "text/x-python",
   "name": "python",
   "nbconvert_exporter": "python",
   "pygments_lexer": "ipython3",
   "version": "3.6.4"
  }
 },
 "nbformat": 4,
 "nbformat_minor": 1
}
