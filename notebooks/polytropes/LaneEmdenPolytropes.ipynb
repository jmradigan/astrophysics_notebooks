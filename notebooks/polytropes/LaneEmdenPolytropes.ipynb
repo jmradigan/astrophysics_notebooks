{
 "cells": [
  {
   "cell_type": "markdown",
   "metadata": {},
   "source": [
    "<h1>ASTR3050 Polytropes Worksheet</h1>\n",
    "\n",
    "<big><b>In this worksheet you will complete the code in the below sections in order to find numerical solutions to the Lane-Emden equation.  <p>\n",
    "\n",
    "<font color='blue'>Look for the incomplete lines of code with the \"<tt>#comment here</tt>\" placeholders.  Complete each of these lines of code and update the comment to describe what you did (and/or the reasoning behind it). I've provided plenty of examples to help you out!</b></blue><p>\n",
    "\n",
    "Before we start, let's review the mathematical an numerical foundations of the Lane-Emden equation and its solutions:\n",
    "\n",
    "In this worksheet you will find numerical solutions to the Lane-Emden equation:\n",
    "\n",
    "$\\frac{1}{\\xi^2}\\frac{d}{d\\xi}\\big(\\xi^2\\frac{d\\theta}{d\\xi}\\big)=-\\theta^n$\n",
    "\n",
    "where: <p>\n",
    "\n",
    "(1) $\\theta^n = \\frac{\\rho}{\\rho_c}$, and pressure is related to density by       $P=P_c\\theta^{n+1}=K\\rho_c^{1+\\frac{1}{n}}\\theta^{n+1}$ <p>\n",
    "\n",
    "(2) $r=\\alpha\\xi$, and the constant alpha is given by $\\alpha^2=\\dfrac{(n+1)K}{4\\pi G\\rho_c^{(n-1)/n}}$\n",
    "\n",
    "<b>First</b> we want to break down the second order Lane-Emden equation into two first-order ordinary differential equations (ODEs; 3 and 4).  We do this by defining:<p>\n",
    "\n",
    "(3) $\\lambda = \\xi^2\\frac{d\\theta}{d\\xi}$ <p>\n",
    "\n",
    "and then substituting this into the Lane-Emden equation to get:<p>\n",
    "\n",
    "(4)$\\frac{d\\lambda}{d\\xi}=-\\theta^n\\xi^2$ <p>\n",
    "\n",
    "What we want to do is calculate $\\theta(\\xi)$.  Our starting points are the <b>boundary conditions</b> in the center of the star:<p>\n",
    "\n",
    " $\\theta_0 = 1$ and $\\frac{d\\theta}{d\\xi}_0=0$<p>\n",
    "\n",
    "Then we can use <b>Euler's method</b> to integrate the equations:<p>\n",
    "\n",
    " $\\theta_{N+1}=\\theta_N + \\Delta\\xi\\frac{d\\theta}{d\\xi}_N$<p>\n",
    " $\\lambda_{N+1}=\\lambda_N + \\Delta\\xi\\frac{d\\lambda}{d\\xi}_N$<p>\n",
    "\n",
    "Substituting for $\\frac{d\\theta}{d\\xi}$ and $\\frac{d\\lambda}{d\\xi}$ in the above equations we get:<p>\n",
    "\n",
    "(5) $\\theta_{N+1}=\\theta_N + \\Delta\\xi\\dfrac{\\lambda_N}{\\xi^2}$<p>\n",
    "(6) $\\lambda_{N+1}=\\lambda_N + \\Delta\\xi(-\\theta_N^n\\xi^2)$ <p>\n",
    "\n",
    "However, note that we won't get anywhere with $\\frac{d\\theta}{d\\xi}_0=0$; this will lead to $\\theta_1$ and all subsequent $\\theta_N$ $=\\theta_0=1$.  Therefore we must use a <em>higher order</em> approximation for our first step in $\\theta_1$.  To do this we will use an expansion about $\\theta=1$:\n",
    "\n",
    "(6) $\\theta_1 \\approx \\theta_0 + \\dfrac{d\\theta}{d\\xi}_0\\Delta\\xi +\\dfrac{d^2\\theta}{d\\xi^2}_0\\dfrac{\\Delta\\xi^2}{2} = 1 - \\dfrac{\\theta^n}{2}\\Delta\\xi^2$\n",
    "\n",
    "We have a similar problem finding $\\lambda_1$, since $\\xi=0$ at the center of our star.  Here, we can find an expression for $\\frac{d\\theta}{d\\xi}_1$ and then use this to solve for $\\lambda_1$.\n",
    "\n",
    "It is left as an excercise for you to show that:<p>\n",
    "\n",
    "$\\dfrac{d\\theta}{d\\xi}_1 \\approx \\dfrac{-\\theta_0^n}{2}\\Delta\\xi = -\\dfrac{\\Delta \\xi}{2}$<p>\n",
    "\n",
    "\n",
    "Then by definition,<p>\n",
    "(7) $\\lambda_1=\\xi_1^2\\frac{d\\theta}{d\\xi}_1=-\\Delta\\xi^2\\dfrac{\\Delta \\xi}{2}=-\\dfrac{\\Delta \\xi^3}{2} $<p>"
   ]
  },
  {
   "cell_type": "code",
   "execution_count": null,
   "metadata": {},
   "outputs": [],
   "source": [
    "import numpy as np\n",
    "import matplotlib.pyplot as plt\n",
    "%matplotlib inline \n",
    "import pdb"
   ]
  },
  {
   "cell_type": "markdown",
   "metadata": {},
   "source": [
    "<big><b> 1. First, define the polytropic index, $n$.  Then define your boundary conditions in the center of the star by filling out the central values for $\\theta_0$ and $\\lambda_0$ in the cell below.</b> Remeber to comment your code to explain what you are doing and why.  <p>\n",
    "\n",
    "<em>Note that the cell won't run until all the variables are define (currently it's \"broken\" code).</em></big>"
   ]
  },
  {
   "cell_type": "code",
   "execution_count": null,
   "metadata": {},
   "outputs": [],
   "source": [
    "#Define the polytropic index\n",
    "n = #comment here\n",
    "\n",
    "#boundary conditions in center of star\n",
    "    theta0 =#comment here\n",
    "    lam0 = #comment here "
   ]
  },
  {
   "cell_type": "markdown",
   "metadata": {},
   "source": [
    "<big><b> 2. We will need to tell the code the range of $\\xi$ values over which we want to compute $\\theta$.</b>  You can do this by defining <tt>xi_range</tt> below (we'll assume the start value is 0, so this should just be a floating point number equal to the maximum $\\xi$ value we want to compute).<p>\n",
    "\n",
    "<b>We also need to tell the code how many steps in $\\Delta \\xi$ we want to take (this is turn will determine the step size for Euler's method).</b>  The smaller the step size, the more accuracte our approximation. You can define these below as the variables <tt>nsteps</tt> (an integer number of steps), and <tt>dxi</tt> (the step size, equal to the <tt>xi_range</tt> divided by the number of steps, <tt>dxi</tt>.<p>\n",
    "\n",
    "Choose values you think are reasonable (you can always change them later).<p>"
   ]
  },
  {
   "cell_type": "code",
   "execution_count": null,
   "metadata": {},
   "outputs": [],
   "source": [
    "#Define range of xi over which to compute theta\n",
    "xi_range= #comment here\n",
    "   \n",
    "#Speify number of steps to use with Euler's method\n",
    "nsteps= #comment here\n",
    "    \n",
    "#Specify step size to take in xi\n",
    "dxi= #comment here    "
   ]
  },
  {
   "cell_type": "markdown",
   "metadata": {},
   "source": [
    "<big><b> 3. Now let's compute the first steps, $\\theta_1$ and $\\lambda_1$</b>, using equations 6 and 7.</b>  I've defined $\\theta_1$ as an example, and have left $\\lambda_1$ for you to define.<p>"
   ]
  },
  {
   "cell_type": "code",
   "execution_count": null,
   "metadata": {},
   "outputs": [],
   "source": [
    "#Compute the first step in theta\n",
    "theta1 = 1. - (dxi**2)/2. #based on equation 6\n",
    "    \n",
    "#Compute the first step in lambda\n",
    "lam1= #comment here"
   ]
  },
  {
   "cell_type": "markdown",
   "metadata": {},
   "source": [
    "<big><b> 4. Now we will define empty vectors of length <tt>nsteps</tt> to store our values $\\theta=\\{\\theta_0 ... \\theta_n\\}$, $\\lambda=\\{\\lambda_0 ... \\lambda_n\\}$, and $\\xi=\\{\\xi_0 ... \\xi_n\\}$.</b>  After we have created the vectors, we will store our already-defined values for $\\theta_0$, $\\theta_1$, $\\lambda_0$, $\\lambda_1$, $\\xi_0$, $\\xi_1$ as the first two elements of each vector.  I've created the $\\theta$ and $\\xi$ vectors, and have left you to create and fill the first two elements of the $\\lambda$ vector."
   ]
  },
  {
   "cell_type": "code",
   "execution_count": null,
   "metadata": {},
   "outputs": [],
   "source": [
    "#Create vectors for theta, lam, and xi.  Fill first two elements of each vector.\n",
    "\n",
    "    theta=np.zeros(nsteps) #vector with nstep elements, filled with zeros\n",
    "    xi=np.zeros(nsteps) #vector with nstep elements, filled with zeros\n",
    "    lam= #comment here\n",
    "   \n",
    "    theta[0]=theta0\n",
    "    theta[1]=theta1\n",
    "    xi[0]=0.\n",
    "    xi[1]=dxi\n",
    "    lam[0]= #comment here\n",
    "    lam[1]= #comment here"
   ]
  },
  {
   "cell_type": "markdown",
   "metadata": {},
   "source": [
    "<big><b> 5. Finally you are ready to compute <em>all</em> subsequent $\\theta_i$ and $\\lambda_i$ values using Euler's method (equations 6 and 7).</b>  We'll do this by creating a for loop to loop over the remaining elements of $\\theta$ and $\\phi$.  I've coded equation 6, and have it up to you to code equation 5.  Note that the compute $\\theta_i$ we use the values from the previous step $\\theta_{i-1}$, $\\lambda_{i-1}$, and $\\xi_{i-1}$.  Also note that the main code is within the <tt>else</tt> statment below.  I've implimented the <tt>if else</tt> statement here so that we stop computing new $\\theta$ values when the density becomes negative (an unphysical situation!).   "
   ]
  },
  {
   "cell_type": "code",
   "execution_count": null,
   "metadata": {},
   "outputs": [],
   "source": [
    "#Now let's compute all subsequent theta_N and lam_N\n",
    "for i in range(2,nsteps):\n",
    "    xi[i]=i*dxi #define the ith element of xi\n",
    "    if theta[i-1] < 0: # this statement is here so that we don't compute negative densities\n",
    "        lam[i]=0.\n",
    "        theta[i]=0.\n",
    "    else:\n",
    "        lam[i]=lam[i-1]+dxi*(-1.*theta[i-1]**n*xi[i-1]**2) #Euler's formula for lambda, equation 6\n",
    "        theta[i]= #comment here"
   ]
  },
  {
   "cell_type": "markdown",
   "metadata": {},
   "source": [
    "<big> <b>6. Now you're ready to run your code.</b>  Maybe you've already played through each cells.  If so, great.  If not, starting at the top cell, hit play until you've run everything above.  Now you can plot your solution for $\\theta(\\xi)$ using the below code. I've given you the skeleton of a basic plot, but you probably want to adjust the parameters.</big>"
   ]
  },
  {
   "cell_type": "code",
   "execution_count": null,
   "metadata": {},
   "outputs": [],
   "source": [
    "#Make a plot of theta(xi)\n",
    "plt.plot(xi,theta)\n",
    "\n",
    "#This command adjusts the x- and y- ranges of the plot.  Adjust as necessary\n",
    "plt.axis([0, 10, 0, 1.2])\n",
    "\n",
    "#always label your axes\n",
    "plt.ylabel('Some y-values')\n",
    "plt.xlabel('Some x-values')\n",
    "plt.title('Example Title')"
   ]
  },
  {
   "cell_type": "markdown",
   "metadata": {},
   "source": [
    "<big> <b>7. Now you've plotted one polytrope model, but what we ultimately want to do is plot a whole bunch of models on the same axes.</b>  To do this we will create a function called <tt>polytrope</tt>, which takes the polytropic index as an argument.  Then you can call this function for a bunch of different polytropic indices and plot the results.  <b>I've coded the skeleton of the function below.  All you need to do is cut and paste your code above into the function, between the <tt>def</tt> statement and the <tt>return</tt> statements.</b> Make sure your code is indented properly (every time you enter a function or a for-loop the code inside gets indented to the next level--you can take a look at the example funtions from the previous worksheet if you get stuck).  You can leave out the very first line of code where you define the polytropic index, since we will be passing $n$ to the function as an argument rather than defining it within the function. </big>"
   ]
  },
  {
   "cell_type": "code",
   "execution_count": null,
   "metadata": {},
   "outputs": [],
   "source": [
    "def polytrope(n):\n",
    "    \n",
    "    #cut and paste your above code here (leave out the line defining the polytropic index, n\n",
    "    #everything inside the function must be indented one additional level\n",
    "    \n",
    "    #this statement returns the computed xi and theta\n",
    "    return,xi,theta\n",
    "    "
   ]
  },
  {
   "cell_type": "markdown",
   "metadata": {},
   "source": [
    "<big> <b>8. Now we will call the above function to compute a bunch of different polytropes and plot the results.</b>  I've provided example code to compute and plot a polytropes of 1 and 3.  You can write code to add polytropes of $n=\\{0,0.5,1.5,2,4,5\\}$ to the plot </big>"
   ]
  },
  {
   "cell_type": "code",
   "execution_count": null,
   "metadata": {},
   "outputs": [],
   "source": [
    "#Use the polytrope function to compute a polytrope with n=3\n",
    "xi_3, theta_3 = polytrope(3)\n",
    "xi_1, theta_1 = polytrope(1)\n",
    "\n",
    "#Plot theta(xi)\n",
    "plt.plot(xi_1,theta_1)\n",
    "\n",
    "#This command adjusts the x- and y- ranges of the plot.  Adjust as necessary\n",
    "plt.axis([0, 10, 0, 1.2])\n",
    "\n",
    "#always label your axes\n",
    "plt.ylabel('Some y-values')\n",
    "plt.xlabel('Some x-values')\n",
    "plt.title('Example Title')"
   ]
  }
 ],
 "metadata": {
  "anaconda-cloud": {},
  "kernelspec": {
   "display_name": "Python 3",
   "language": "python",
   "name": "python3"
  },
  "language_info": {
   "codemirror_mode": {
    "name": "ipython",
    "version": 3
   },
   "file_extension": ".py",
   "mimetype": "text/x-python",
   "name": "python",
   "nbconvert_exporter": "python",
   "pygments_lexer": "ipython3",
   "version": "3.6.4"
  }
 },
 "nbformat": 4,
 "nbformat_minor": 1
}
